{
 "cells": [
  {
   "cell_type": "code",
   "execution_count": 18,
   "id": "4bfebb31",
   "metadata": {},
   "outputs": [
    {
     "name": "stdout",
     "output_type": "stream",
     "text": [
      "2026-09-04 - Happy birthday!\n"
     ]
    }
   ],
   "source": [
    "from datetime import datetime\n",
    "\n",
    "from gcsa.google_calendar import GoogleCalendar\n",
    "\n",
    "calendar = GoogleCalendar(\"kofsitho@gmail.com\")\n",
    "for event in calendar.get_events(order_by=\"startTime\", single_events=True):\n",
    "    print(event)\n",
    "\n",
    "    # calendar.delete_event(event)"
   ]
  },
  {
   "cell_type": "code",
   "execution_count": 32,
   "id": "355d918f",
   "metadata": {},
   "outputs": [
    {
     "name": "stdout",
     "output_type": "stream",
     "text": [
      "2025-10-31\n",
      "2025-10-31 - Agent 워크샵\n"
     ]
    }
   ],
   "source": [
    "from datetime import timedelta\n",
    "\n",
    "time_min = datetime.strptime(\"2025-10-31 00:00:00\", \"%Y-%m-%d %H:%M:%S\").date()\n",
    "\n",
    "print(time_min)\n",
    "\n",
    "for event in calendar.get_events(\n",
    "    time_min=time_min, time_max=datetime.now() + timedelta(days=1)\n",
    "):\n",
    "    print(event)"
   ]
  },
  {
   "cell_type": "code",
   "execution_count": 25,
   "id": "bd25ad42",
   "metadata": {},
   "outputs": [
    {
     "name": "stdout",
     "output_type": "stream",
     "text": [
      "2025-10-02 09:00:00+09:00 - ✅ 📧 Morning Catch Up\n",
      "2025-10-02 09:30:00+09:00 - ✅ 🏃 Sprint Planning\n",
      "2025-10-02 12:00:00+09:00 - ✅ 🍱 Lunch\n",
      "2025-10-03 12:00:00+09:00 - ✅ 🍱 Lunch\n",
      "2025-10-03 09:00:00+09:00 - ✅ 📧 Morning Catch Up\n",
      "2025-10-06 09:00:00+09:00 - ✅ 📧 Morning Catch Up\n",
      "2025-10-06 12:00:00+09:00 - ✅ 🍱 Lunch\n",
      "2025-10-07 09:00:00+09:00 - ✅ 📧 Morning Catch Up\n",
      "2025-10-07 12:00:00+09:00 - ✅ 🍱 Lunch\n",
      "2025-10-08 09:00:00+09:00 - ✅ 📧 Morning Catch Up\n",
      "2025-10-08 12:00:00+09:00 - ✅ 🍱 Lunch\n",
      "2025-10-09 09:00:00+09:00 - ✅ 📧 Morning Catch Up\n",
      "2025-10-09 12:00:00+09:00 - ✅ 🍱 Lunch\n",
      "2025-10-10 12:00:00+09:00 - ✅ 🍱 Lunch\n",
      "2025-10-10 09:00:00+09:00 - ✅ 📧 Morning Catch Up\n",
      "2025-10-10 09:30:00+09:00 - ✅ 🏃 Sprint Planning\n",
      "2025-10-13 09:00:00+09:00 - ✅ 📧 Morning Catch Up\n",
      "2025-10-13 12:00:00+09:00 - ✅ 🍱 Lunch\n",
      "2025-10-14 12:00:00+09:00 - ✅ 🍱 Lunch\n",
      "2025-10-14 09:00:00+09:00 - ✅ 📧 Morning Catch Up\n",
      "2025-10-15 09:00:00+09:00 - ✅ 📧 Morning Catch Up\n",
      "2025-10-15 12:00:00+09:00 - ✅ 🍱 Lunch\n",
      "2025-10-17 09:00:00+09:00 - ✅ 📧 Morning Catch Up\n",
      "2025-10-17 12:00:00+09:00 - ✅ 🍱 Lunch\n",
      "2025-10-21 12:00:00+09:00 - ✅ 🍱 Lunch\n",
      "2025-10-21 09:00:00+09:00 - ✅ 📧 Morning Catch Up\n",
      "2025-10-24 12:00:00+09:00 - ✅ 🍱 Lunch\n",
      "2025-10-24 09:00:00+09:00 - ✅ 📧 Morning Catch Up\n",
      "2025-10-24 09:30:00+09:00 - ✅ 🏃 Sprint Planning\n"
     ]
    }
   ],
   "source": [
    "for event in calendar.get_events(\n",
    "    time_min=datetime.now() - timedelta(days=30),\n",
    "    time_max=datetime.now() - timedelta(days=1),\n",
    "):\n",
    "    print(event)\n",
    "    calendar.delete_event(event)"
   ]
  },
  {
   "cell_type": "code",
   "execution_count": 21,
   "id": "e06b237a",
   "metadata": {},
   "outputs": [
    {
     "data": {
      "text/plain": [
       "<Event 2025-10-31 - Agent 워크샵>"
      ]
     },
     "execution_count": 21,
     "metadata": {},
     "output_type": "execute_result"
    }
   ],
   "source": [
    "from datetime import datetime\n",
    "\n",
    "from gcsa.event import Event\n",
    "\n",
    "date = datetime.strptime(\"2025-10-31 15:00:00\", \"%Y-%m-%d %H:%M:%S\").date()\n",
    "\n",
    "event = Event(\n",
    "    \"Agent 워크샵\",\n",
    "    start=date,\n",
    "    location=\"경기도 판교 와이즈에이아이\",\n",
    "    minutes_before_popup_reminder=15,\n",
    ")\n",
    "calendar.add_event(event)"
   ]
  },
  {
   "cell_type": "code",
   "execution_count": 36,
   "id": "ebe55d15",
   "metadata": {},
   "outputs": [
    {
     "name": "stdout",
     "output_type": "stream",
     "text": [
      "Please visit this URL to authorize this application: https://accounts.google.com/o/oauth2/auth?response_type=code&client_id=418180406197-nnv08m694ba5shah443cm04l7mjsj3is.apps.googleusercontent.com&redirect_uri=http%3A%2F%2Flocalhost%3A64294%2F&scope=https%3A%2F%2Fwww.googleapis.com%2Fauth%2Fgmail.send+https%3A%2F%2Fwww.googleapis.com%2Fauth%2Fgmail.readonly&state=Ho05zEwyAiFbKmCIssEIsXelUSNZsO&access_type=offline\n",
      "Sent message id: 19a382650e5c18a2\n"
     ]
    }
   ],
   "source": [
    "import base64\n",
    "from email.mime.text import MIMEText\n",
    "\n",
    "from google_auth_oauthlib.flow import InstalledAppFlow\n",
    "from googleapiclient.discovery import build\n",
    "\n",
    "SCOPES = [\n",
    "    \"https://www.googleapis.com/auth/gmail.send\",\n",
    "    \"https://www.googleapis.com/auth/gmail.readonly\",\n",
    "]\n",
    "creds = None\n",
    "flow = InstalledAppFlow.from_client_secrets_file(\"credentials.json\", SCOPES)\n",
    "creds = flow.run_local_server(port=0)\n",
    "service = build(\"gmail\", \"v1\", credentials=creds)\n",
    "\n",
    "message = MIMEText(\"이메일 본문\")\n",
    "message[\"to\"] = \"kofsitho@naver.com\"\n",
    "message[\"subject\"] = \"안녕 지메일 보내기 테스트\"\n",
    "raw = base64.urlsafe_b64encode(message.as_bytes()).decode()\n",
    "body = {\"raw\": raw}\n",
    "\n",
    "sent = service.users().messages().send(userId=\"me\", body=body).execute()\n",
    "print(\"Sent message id:\", sent[\"id\"])\n"
   ]
  },
  {
   "cell_type": "code",
   "execution_count": 39,
   "id": "16fb4751",
   "metadata": {},
   "outputs": [
    {
     "name": "stdout",
     "output_type": "stream",
     "text": [
      "Please visit this URL to authorize this application: https://accounts.google.com/o/oauth2/auth?response_type=code&client_id=418180406197-nnv08m694ba5shah443cm04l7mjsj3is.apps.googleusercontent.com&redirect_uri=http%3A%2F%2Flocalhost%3A64883%2F&scope=https%3A%2F%2Fwww.googleapis.com%2Fauth%2Fgmail.readonly+https%3A%2F%2Fwww.googleapis.com%2Fauth%2Fgmail.send&state=SNgzIJiGWO3xktNxHB3jkw6jEi4TGl&access_type=offline\n",
      "📩 제목: Re: [wiseai-oneplat/wiseai-aiu] <AIUDEV-1969> 수동 아웃바운드 적재시 필터 조건 변경 (PR #1482)\n",
      "보낸 사람: danielle0721 <notifications@github.com>\n",
      "내용 요약: Merged #1482 into qa.\n",
      "\n",
      "-- \n",
      "Reply to this email directly or view it on GitHub:\n",
      "https://github.com...\n",
      "\n",
      "📩 제목: [wiseai-oneplat/wiseai-aiu] <AIUDEV-1969> 수동 아웃바운드 적재시 필터 조건 변경 (PR #1482)\n",
      "보낸 사람: danielle0721 <notifications@github.com>\n",
      "내용 요약: ## :bulb: 관련 정보\n",
      "\n",
      "- JIRA 티켓: [AIUDEV-1969](https://wisecareai.atlassian.net/browse/AIUDEV-1969)\n",
      "\n",
      "...\n",
      "\n",
      "📩 제목: (제목 없음)\n",
      "보낸 사람: kofsitho@gmail.com\n",
      "내용 요약: 이메일 본문...\n",
      "\n",
      "📩 제목: 보안 알림\n",
      "보낸 사람: Google <no-reply@accounts.google.com>\n",
      "내용 요약: [image: Google]\n",
      "일부 Google 계정 데이터에 대한 Tikitaka의 액세스를 허용하셨습니다\n",
      "\n",
      "\n",
      "kofsitho@gmail.com\n",
      "\n",
      "일부 Google 계정...\n",
      "\n",
      "📩 제목: Re: [wiseai-oneplat/wiseai-aiu] [AIUDEV-1839] feat: 고든병원(중외정보기술) RPA 연동 기능 개발 (PR #1481)\n",
      "보낸 사람: ellie <notifications@github.com>\n",
      "내용 요약: @ellie-wiseai commented on this pull request.\n",
      "\n",
      "따로 예약이 있는지 확인하시는 로직을 만드신거같은데, 전에 말씀드린 것처럼 DentwebSe...\n",
      "\n",
      "📩 제목: Re: [wiseai-oneplat/wiseai-aiu] <AIUDEV-1755> [HQ/SVC] 센스 신규EMR 개발 (PR #1479)\n",
      "보낸 사람: ellie <notifications@github.com>\n",
      "내용 요약: @ellie-wiseai commented on this pull request.\n",
      "\n",
      "\n",
      "\n",
      "> +  @Override\n",
      "+  public PatientDto makeMedica...\n",
      "\n",
      "📩 제목: [wiseai-oneplat/wiseai-aiu] [AIUDEV-1839] feat: 고든병원(중외정보기술) RPA 연동 기능 개발 (PR #1481)\n",
      "보낸 사람: SeokHyunHong <notifications@github.com>\n",
      "내용 요약: ## :bulb: 관련 정보\n",
      "\n",
      "\n",
      "- JIRA 티켓: [ 지라 티켓 ](  지라 링크  )\n",
      "\n",
      "## :information_desk_person: 어떤 기능인가요?\n",
      "\n",
      "&l...\n",
      "\n",
      "📩 제목: [wiseai-oneplat/wiseai-aiu] <AIUDEV-1755> [HQ/SVC] 센스 신규EMR 개발 (PR #1480)\n",
      "보낸 사람: taeseong <notifications@github.com>\n",
      "내용 요약: ## :bulb: 관련 정보\n",
      "\n",
      "- JIRA 티켓: [[ 지라 티켓 ](  지라 링크  )](https://wisecareai.atlassian.net/browse/AIUDEV-...\n",
      "\n",
      "📩 제목: Re: [wiseai-oneplat/wiseai-aiu] <AIUDEV-888> 카카오 챗봇 이미지 변환 작업 (PR #1477)\n",
      "보낸 사람: danielle0721 <notifications@github.com>\n",
      "내용 요약: Merged #1477 into qa.\n",
      "\n",
      "-- \n",
      "Reply to this email directly or view it on GitHub:\n",
      "https://github.com...\n",
      "\n",
      "📩 제목: Re: [wiseai-oneplat/wiseai-aiu] <AIUDEV-1970> 아웃바운드 수동 대상자 선정 > 차트번호, 휴대폰번호 공백 입력 제한 (PR #1472)\n",
      "보낸 사람: danielle0721 <notifications@github.com>\n",
      "내용 요약: Merged #1472 into qa.\n",
      "\n",
      "-- \n",
      "Reply to this email directly or view it on GitHub:\n",
      "https://github.com...\n",
      "\n"
     ]
    }
   ],
   "source": [
    "import base64\n",
    "\n",
    "from google_auth_oauthlib.flow import InstalledAppFlow\n",
    "from googleapiclient.discovery import build\n",
    "\n",
    "# Gmail 읽기/전송용 스코프\n",
    "SCOPES = [\n",
    "    \"https://www.googleapis.com/auth/gmail.readonly\",\n",
    "    \"https://www.googleapis.com/auth/gmail.send\",\n",
    "]\n",
    "\n",
    "\n",
    "def get_service():\n",
    "    flow = InstalledAppFlow.from_client_secrets_file(\"credentials.json\", SCOPES)\n",
    "    creds = flow.run_local_server(port=0)\n",
    "    return build(\"gmail\", \"v1\", credentials=creds)\n",
    "\n",
    "\n",
    "service = get_service()\n",
    "\n",
    "# 최근 이메일 10개 가져오기\n",
    "results = service.users().messages().list(userId=\"me\", maxResults=10).execute()\n",
    "messages = results.get(\"messages\", [])\n",
    "\n",
    "for msg in messages:\n",
    "    msg_id = msg[\"id\"]\n",
    "    msg_data = (\n",
    "        service.users().messages().get(userId=\"me\", id=msg_id, format=\"full\").execute()\n",
    "    )\n",
    "\n",
    "    headers = msg_data[\"payload\"][\"headers\"]\n",
    "    subject = next(\n",
    "        (h[\"value\"] for h in headers if h[\"name\"] == \"Subject\"), \"(제목 없음)\"\n",
    "    )\n",
    "    sender = next((h[\"value\"] for h in headers if h[\"name\"] == \"From\"), \"(보낸이 없음)\")\n",
    "\n",
    "    # 본문 가져오기\n",
    "    if \"parts\" in msg_data[\"payload\"]:\n",
    "        data = msg_data[\"payload\"][\"parts\"][0][\"body\"].get(\"data\")\n",
    "    else:\n",
    "        data = msg_data[\"payload\"][\"body\"].get(\"data\")\n",
    "\n",
    "    if data:\n",
    "        decoded = base64.urlsafe_b64decode(data)\n",
    "        msg_body = decoded.decode(\"utf-8\", errors=\"ignore\")\n",
    "    else:\n",
    "        msg_body = \"(본문 없음)\"\n",
    "\n",
    "    print(f\"📩 제목: {subject}\")\n",
    "    print(f\"보낸 사람: {sender}\")\n",
    "    print(f\"내용 요약: {msg_body[:100]}...\\n\")\n"
   ]
  },
  {
   "cell_type": "code",
   "execution_count": null,
   "id": "249da207",
   "metadata": {},
   "outputs": [],
   "source": [
    "import yagmail\n",
    "\n",
    "yag = yagmail.SMTP(\"kofsitho@gmail.com\", oauth2_file=\"credentials.json\")\n",
    "yag.send(\n",
    "    to=\"kofsitho@naver.com\",\n",
    "    subject=\"안녕하세요! shw님\",\n",
    "    contents=\"오늘 오전 10시에 미팅이 있습니다.\",\n",
    ")"
   ]
  }
 ],
 "metadata": {
  "kernelspec": {
   "display_name": ".venv",
   "language": "python",
   "name": "python3"
  },
  "language_info": {
   "codemirror_mode": {
    "name": "ipython",
    "version": 3
   },
   "file_extension": ".py",
   "mimetype": "text/x-python",
   "name": "python",
   "nbconvert_exporter": "python",
   "pygments_lexer": "ipython3",
   "version": "3.13.2"
  }
 },
 "nbformat": 4,
 "nbformat_minor": 5
}
