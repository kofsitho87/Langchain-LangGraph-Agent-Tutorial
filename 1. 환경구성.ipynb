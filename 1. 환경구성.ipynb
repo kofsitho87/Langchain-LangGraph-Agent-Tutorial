{
 "cells": [
  {
   "cell_type": "markdown",
   "id": "6921a532",
   "metadata": {},
   "source": [
    "# Langchain/LangGraph 개발환경구성"
   ]
  },
  {
   "cell_type": "markdown",
   "id": "59768809",
   "metadata": {},
   "source": [
    "## `UV` 파이썬 패키지 관리도구 설치\n",
    "\n",
    "```bash\n",
    "# 맥에서 설치 \n",
    "brew install uv\n",
    "\n",
    "# 버젼체크\n",
    "uv --version\n",
    "\n",
    "# 프로젝트 생성\n",
    "uv init python_tutorial --python 3.12\n",
    "```\n",
    "\n",
    "\n",
    "참고자료:\n",
    "- [파이썬 개발자라면 uv 를 사용합시다](https://sigridjin.medium.com/%ED%8C%8C%EC%9D%B4%EC%8D%AC-%EA%B0%9C%EB%B0%9C%EC%9E%90%EB%9D%BC%EB%A9%B4-uv-%EB%A5%BC-%EC%82%AC%EC%9A%A9%ED%95%A9%EC%8B%9C%EB%8B%A4-546d523f7178)\n",
    "- [python `uv` 간단한 사용 방법과 예제](https://www.0x00.kr/development/python/python-uv-simple-usage-and-example)"
   ]
  },
  {
   "cell_type": "markdown",
   "id": "3507a87c",
   "metadata": {},
   "source": [
    "## `langgraph-cli` 설치\n",
    "\n",
    "```bash\n",
    "# langgraph-cli 설치\n",
    "uv pip install langgraph-cli\n",
    "\n",
    "# 또는 brew\n",
    "brew install langgraph-cli\n",
    "```\n",
    "\n",
    "### langgraph-cli 로 시작하기\n",
    "\n",
    "```bash\n",
    "langgraph new langgraph_tutorial\n",
    "\n",
    "cd langgraph_tutorial\n",
    "\n",
    "uv sync\n",
    "\n",
    "uv run langgraph dev\n",
    "```"
   ]
  },
  {
   "cell_type": "markdown",
   "id": "97a598bb",
   "metadata": {},
   "source": []
  }
 ],
 "metadata": {
  "language_info": {
   "name": "python"
  }
 },
 "nbformat": 4,
 "nbformat_minor": 5
}
