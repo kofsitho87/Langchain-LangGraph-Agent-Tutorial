{
 "cells": [
  {
   "cell_type": "markdown",
   "id": "ebc466bf",
   "metadata": {},
   "source": [
    "## Langchain 으로 LLM API 호출"
   ]
  },
  {
   "cell_type": "code",
   "execution_count": 27,
   "id": "6de003ee",
   "metadata": {},
   "outputs": [],
   "source": [
    "question = \"대한민국의 수도는 어디야?\""
   ]
  },
  {
   "cell_type": "code",
   "execution_count": null,
   "id": "471b9287",
   "metadata": {},
   "outputs": [
    {
     "name": "stdout",
     "output_type": "stream",
     "text": [
      "content='대한민국의 수도는 서울입니다.' additional_kwargs={'refusal': None} response_metadata={'token_usage': {'completion_tokens': 8, 'prompt_tokens': 15, 'total_tokens': 23, 'completion_tokens_details': {'accepted_prediction_tokens': 0, 'audio_tokens': 0, 'reasoning_tokens': 0, 'rejected_prediction_tokens': 0}, 'prompt_tokens_details': {'audio_tokens': 0, 'cached_tokens': 0}}, 'model_provider': 'openai', 'model_name': 'gpt-4.1-mini-2025-04-14', 'system_fingerprint': 'fp_4c2851f862', 'id': 'chatcmpl-CWX29I8CIaDX48Z5pZA3Qu3kijTnd', 'service_tier': 'default', 'finish_reason': 'stop', 'logprobs': None} id='lc_run--7f0e2cb0-8414-43ab-96cd-990338c87fc7-0' usage_metadata={'input_tokens': 15, 'output_tokens': 8, 'total_tokens': 23, 'input_token_details': {'audio': 0, 'cache_read': 0}, 'output_token_details': {'audio': 0, 'reasoning': 0}}\n"
     ]
    }
   ],
   "source": [
    "from langchain.chat_models import init_chat_model\n",
    "\n",
    "model = init_chat_model(\"openai:gpt-4.1-mini\")\n",
    "response = model.invoke(question)\n",
    "\n",
    "print(response)"
   ]
  },
  {
   "cell_type": "code",
   "execution_count": null,
   "id": "59489e01",
   "metadata": {},
   "outputs": [
    {
     "name": "stdout",
     "output_type": "stream",
     "text": [
      "content='대한민국의 수도는 서울입니다.' additional_kwargs={'refusal': None} response_metadata={'token_usage': {'completion_tokens': 8, 'prompt_tokens': 15, 'total_tokens': 23, 'completion_tokens_details': {'accepted_prediction_tokens': 0, 'audio_tokens': 0, 'reasoning_tokens': 0, 'rejected_prediction_tokens': 0}, 'prompt_tokens_details': {'audio_tokens': 0, 'cached_tokens': 0}}, 'model_provider': 'openai', 'model_name': 'gpt-4.1-mini-2025-04-14', 'system_fingerprint': 'fp_4c2851f862', 'id': 'chatcmpl-CWX38UUtHEmMVjeIN5Wh13QX03KjM', 'service_tier': 'default', 'finish_reason': 'stop', 'logprobs': None} id='lc_run--f51cd309-0b37-4be3-9d6f-75d158671277-0' usage_metadata={'input_tokens': 15, 'output_tokens': 8, 'total_tokens': 23, 'input_token_details': {'audio': 0, 'cache_read': 0}, 'output_token_details': {'audio': 0, 'reasoning': 0}}\n"
     ]
    }
   ],
   "source": [
    "from langchain_openai import ChatOpenAI\n",
    "\n",
    "model = ChatOpenAI(model=\"gpt-4.1-mini\")\n",
    "response = model.invoke(question)\n",
    "\n",
    "print(response)"
   ]
  },
  {
   "cell_type": "code",
   "execution_count": 35,
   "id": "c313bfa3",
   "metadata": {},
   "outputs": [
    {
     "name": "stdout",
     "output_type": "stream",
     "text": [
      "대한민국의 수도는 서울특별시입니다.\n"
     ]
    }
   ],
   "source": [
    "from langchain_core.output_parsers import StrOutputParser\n",
    "\n",
    "\n",
    "model = ChatOpenAI(model=\"gpt-4.1-mini\")\n",
    "chain = model | StrOutputParser()\n",
    "response = chain.invoke(question)\n",
    "\n",
    "print(response)"
   ]
  },
  {
   "cell_type": "code",
   "execution_count": 34,
   "id": "ee116961",
   "metadata": {},
   "outputs": [
    {
     "name": "stdout",
     "output_type": "stream",
     "text": [
      "대한민국의 수도는 서울특별시입니다.\n"
     ]
    }
   ],
   "source": [
    "from langchain_core.output_parsers import StrOutputParser\n",
    "from langchain_core.prompts import ChatPromptTemplate\n",
    "\n",
    "prompt = ChatPromptTemplate.from_template(\"{country}의 수도는 어디야?\")\n",
    "\n",
    "model = ChatOpenAI(model=\"gpt-4.1-mini\")\n",
    "chain = prompt | model | StrOutputParser()\n",
    "response = chain.invoke({\"country\": \"대한민국\"})\n",
    "\n",
    "print(response)"
   ]
  },
  {
   "cell_type": "code",
   "execution_count": 31,
   "id": "218aceb8",
   "metadata": {},
   "outputs": [
    {
     "name": "stdout",
     "output_type": "stream",
     "text": [
      "\n",
      "대한\n",
      "대한민국\n",
      "대한민국의\n",
      "대한민국의 수도\n",
      "대한민국의 수도는\n",
      "대한민국의 수도는 서울\n",
      "대한민국의 수도는 서울입니다\n",
      "대한민국의 수도는 서울입니다.\n",
      "대한민국의 수도는 서울입니다.\n",
      "대한민국의 수도는 서울입니다.\n",
      "대한민국의 수도는 서울입니다.\n",
      "[{'type': 'text', 'text': '대한민국의 수도는 서울입니다.'}]\n"
     ]
    }
   ],
   "source": [
    "full = None  # None | AIMessageChunk\n",
    "for chunk in model.stream(question):\n",
    "    full = chunk if full is None else full + chunk\n",
    "    print(full.text)\n",
    "\n",
    "print(full.content_blocks)"
   ]
  },
  {
   "cell_type": "markdown",
   "id": "9a098284",
   "metadata": {},
   "source": [
    "## Langchain 으로 아주 간단한 Agent 만들기"
   ]
  },
  {
   "cell_type": "code",
   "execution_count": 17,
   "id": "1d964357",
   "metadata": {},
   "outputs": [
    {
     "name": "stdout",
     "output_type": "stream",
     "text": [
      "[HumanMessage(content='what is the weather in sf', additional_kwargs={}, response_metadata={}, id='f1d5553b-c43f-426e-bd73-75e80797a657'),\n",
      " AIMessage(content='', additional_kwargs={'refusal': None}, response_metadata={'token_usage': {'completion_tokens': 15, 'prompt_tokens': 56, 'total_tokens': 71, 'completion_tokens_details': {'accepted_prediction_tokens': 0, 'audio_tokens': 0, 'reasoning_tokens': 0, 'rejected_prediction_tokens': 0}, 'prompt_tokens_details': {'audio_tokens': 0, 'cached_tokens': 0}}, 'model_provider': 'openai', 'model_name': 'gpt-4o-mini-2024-07-18', 'system_fingerprint': 'fp_560af6e559', 'id': 'chatcmpl-CWWu3E6SJrV4ystKQatt4G0rO8tZM', 'service_tier': 'default', 'finish_reason': 'tool_calls', 'logprobs': None}, id='lc_run--65486baa-c0aa-4ef6-b35a-dded28ebfff6-0', tool_calls=[{'name': 'get_weather', 'args': {'city': 'San Francisco'}, 'id': 'call_nrFGPHXzC5smwJjBifrgQ9YI', 'type': 'tool_call'}], usage_metadata={'input_tokens': 56, 'output_tokens': 15, 'total_tokens': 71, 'input_token_details': {'audio': 0, 'cache_read': 0}, 'output_token_details': {'audio': 0, 'reasoning': 0}}),\n",
      " ToolMessage(content=\"It's always sunny in San Francisco!\", name='get_weather', id='7bbf6014-95fd-46fb-8da3-42945cb0b5dd', tool_call_id='call_nrFGPHXzC5smwJjBifrgQ9YI'),\n",
      " AIMessage(content='The weather in San Francisco is sunny!', additional_kwargs={'refusal': None}, response_metadata={'token_usage': {'completion_tokens': 9, 'prompt_tokens': 86, 'total_tokens': 95, 'completion_tokens_details': {'accepted_prediction_tokens': 0, 'audio_tokens': 0, 'reasoning_tokens': 0, 'rejected_prediction_tokens': 0}, 'prompt_tokens_details': {'audio_tokens': 0, 'cached_tokens': 0}}, 'model_provider': 'openai', 'model_name': 'gpt-4o-mini-2024-07-18', 'system_fingerprint': 'fp_560af6e559', 'id': 'chatcmpl-CWWu4Jk9ZCQlDLvHHZPK30EcDqEHu', 'service_tier': 'default', 'finish_reason': 'stop', 'logprobs': None}, id='lc_run--c817f59e-26a1-41a2-a8c8-79f458186255-0', usage_metadata={'input_tokens': 86, 'output_tokens': 9, 'total_tokens': 95, 'input_token_details': {'audio': 0, 'cache_read': 0}, 'output_token_details': {'audio': 0, 'reasoning': 0}})]\n"
     ]
    }
   ],
   "source": [
    "import pprint\n",
    "from langchain.agents import create_agent\n",
    "\n",
    "def get_weather(city: str) -> str:\n",
    "    \"\"\"Get weather for a given city.\"\"\"\n",
    "    return f\"It's always sunny in {city}!\"\n",
    "\n",
    "agent = create_agent(\n",
    "    model=\"openai:gpt-4o-mini\",\n",
    "    tools=[get_weather],\n",
    "    system_prompt=\"You are a helpful assistant\",\n",
    ")\n",
    "\n",
    "# Run the agent\n",
    "result = agent.invoke(\n",
    "    {\"messages\": [{\"role\": \"user\", \"content\": \"what is the weather in sf\"}]}\n",
    ")\n",
    "\n",
    "pprint.pprint(result['messages'])"
   ]
  },
  {
   "cell_type": "code",
   "execution_count": null,
   "id": "773388ab",
   "metadata": {},
   "outputs": [
    {
     "name": "stdout",
     "output_type": "stream",
     "text": [
      "human: what is the weather in sf\n",
      "ai: [{'name': 'get_weather', 'args': {'city': 'San Francisco'}, 'id': 'call_nrFGPHXzC5smwJjBifrgQ9YI', 'type': 'tool_call'}]\n",
      "tool: It's always sunny in San Francisco!\n",
      "ai: The weather in San Francisco is sunny!\n"
     ]
    }
   ],
   "source": [
    "for m in result['messages']:\n",
    "    print(f\"{m.type}: {m.content or m.tool_calls}\")"
   ]
  },
  {
   "cell_type": "code",
   "execution_count": 22,
   "id": "ca1dd412",
   "metadata": {},
   "outputs": [
    {
     "name": "stdout",
     "output_type": "stream",
     "text": [
      "human: 대한민국의 수도가 어디야?\n",
      "ai: 대한민국의 수도는 서울입니다.\n"
     ]
    }
   ],
   "source": [
    "result = agent.invoke(\n",
    "    {\"messages\": [{\"role\": \"user\", \"content\": \"대한민국의 수도가 어디야?\"}]}\n",
    ")\n",
    "\n",
    "for m in result['messages']:\n",
    "    print(f\"{m.type}: {m.content or m.tool_calls}\")"
   ]
  },
  {
   "cell_type": "markdown",
   "id": "3a2b4f16",
   "metadata": {},
   "source": [
    "## LangGraph 시작하기\n",
    "\n",
    "### 1. Define tools and model"
   ]
  },
  {
   "cell_type": "code",
   "execution_count": 36,
   "id": "19fa31fc",
   "metadata": {},
   "outputs": [],
   "source": [
    "from langchain.tools import tool\n",
    "from langchain.chat_models import init_chat_model\n",
    "\n",
    "\n",
    "model = init_chat_model(\n",
    "    \"openai:gpt-4o-mini\",\n",
    "    temperature=0\n",
    ")\n",
    "\n",
    "\n",
    "# Define tools\n",
    "@tool\n",
    "def multiply(a: int, b: int) -> int:\n",
    "    \"\"\"Multiply `a` and `b`.\n",
    "\n",
    "    Args:\n",
    "        a: First int\n",
    "        b: Second int\n",
    "    \"\"\"\n",
    "    return a * b\n",
    "\n",
    "\n",
    "@tool\n",
    "def add(a: int, b: int) -> int:\n",
    "    \"\"\"Adds `a` and `b`.\n",
    "\n",
    "    Args:\n",
    "        a: First int\n",
    "        b: Second int\n",
    "    \"\"\"\n",
    "    return a + b\n",
    "\n",
    "\n",
    "@tool\n",
    "def divide(a: int, b: int) -> float:\n",
    "    \"\"\"Divide `a` and `b`.\n",
    "\n",
    "    Args:\n",
    "        a: First int\n",
    "        b: Second int\n",
    "    \"\"\"\n",
    "    return a / b\n",
    "\n",
    "\n",
    "# Augment the LLM with tools\n",
    "tools = [add, multiply, divide]\n",
    "tools_by_name = {tool.name: tool for tool in tools}\n",
    "model_with_tools = model.bind_tools(tools)"
   ]
  },
  {
   "cell_type": "markdown",
   "id": "ad96c880",
   "metadata": {},
   "source": [
    "### 2. Define state"
   ]
  },
  {
   "cell_type": "code",
   "execution_count": 37,
   "id": "2e5a4406",
   "metadata": {},
   "outputs": [],
   "source": [
    "from langchain.messages import AnyMessage\n",
    "from typing_extensions import TypedDict, Annotated\n",
    "import operator\n",
    "\n",
    "\n",
    "class MessagesState(TypedDict):\n",
    "    messages: Annotated[list[AnyMessage], operator.add]\n",
    "    llm_calls: int"
   ]
  },
  {
   "cell_type": "markdown",
   "id": "c57599f2",
   "metadata": {},
   "source": [
    "### 3. Define model node"
   ]
  },
  {
   "cell_type": "code",
   "execution_count": 38,
   "id": "0036d283",
   "metadata": {},
   "outputs": [],
   "source": [
    "from langchain.messages import SystemMessage\n",
    "\n",
    "\n",
    "def llm_call(state: dict):\n",
    "    \"\"\"LLM decides whether to call a tool or not\"\"\"\n",
    "\n",
    "    return {\n",
    "        \"messages\": [\n",
    "            model_with_tools.invoke(\n",
    "                [\n",
    "                    SystemMessage(\n",
    "                        content=\"You are a helpful assistant tasked with performing arithmetic on a set of inputs.\"\n",
    "                    )\n",
    "                ]\n",
    "                + state[\"messages\"]\n",
    "            )\n",
    "        ],\n",
    "        \"llm_calls\": state.get('llm_calls', 0) + 1\n",
    "    }"
   ]
  },
  {
   "cell_type": "markdown",
   "id": "79314181",
   "metadata": {},
   "source": [
    "### 4. Define node and end logic"
   ]
  },
  {
   "cell_type": "code",
   "execution_count": 39,
   "id": "91d4aced",
   "metadata": {},
   "outputs": [],
   "source": [
    "from langchain.messages import ToolMessage\n",
    "from typing import Literal\n",
    "from langgraph.graph import StateGraph, START, END\n",
    "\n",
    "def tool_node(state: dict):\n",
    "    \"\"\"Performs the tool call\"\"\"\n",
    "\n",
    "    result = []\n",
    "    for tool_call in state[\"messages\"][-1].tool_calls:\n",
    "        tool = tools_by_name[tool_call[\"name\"]]\n",
    "        observation = tool.invoke(tool_call[\"args\"])\n",
    "        result.append(ToolMessage(content=observation, tool_call_id=tool_call[\"id\"]))\n",
    "    return {\"messages\": result}\n",
    "\n",
    "\n",
    "def should_continue(state: MessagesState) -> Literal[\"tool_node\", END]:\n",
    "    \"\"\"Decide if we should continue the loop or stop based upon whether the LLM made a tool call\"\"\"\n",
    "\n",
    "    messages = state[\"messages\"]\n",
    "    last_message = messages[-1]\n",
    "\n",
    "    # If the LLM makes a tool call, then perform an action\n",
    "    if last_message.tool_calls:\n",
    "        return \"tool_node\"\n",
    "\n",
    "    # Otherwise, we stop (reply to the user)\n",
    "    return END"
   ]
  },
  {
   "cell_type": "markdown",
   "id": "7d5c5e08",
   "metadata": {},
   "source": [
    "### Build and compile the agent"
   ]
  },
  {
   "cell_type": "code",
   "execution_count": 41,
   "id": "599530f2",
   "metadata": {},
   "outputs": [
    {
     "data": {
      "image/png": "[encoded data removed]",
      "text/plain": [
       "<IPython.core.display.Image object>"
      ]
     },
     "metadata": {},
     "output_type": "display_data"
    },
    {
     "name": "stdout",
     "output_type": "stream",
     "text": [
      "================================\u001b[1m Human Message \u001b[0m=================================\n",
      "\n",
      "3 더하기 4는 몇이야?\n",
      "==================================\u001b[1m Ai Message \u001b[0m==================================\n",
      "Tool Calls:\n",
      "  add (call_7s4acE6EWcQ2SIhLSyg1a6Xw)\n",
      " Call ID: call_7s4acE6EWcQ2SIhLSyg1a6Xw\n",
      "  Args:\n",
      "    a: 3\n",
      "    b: 4\n",
      "=================================\u001b[1m Tool Message \u001b[0m=================================\n",
      "\n",
      "7\n",
      "==================================\u001b[1m Ai Message \u001b[0m==================================\n",
      "\n",
      "3 더하기 4는 7입니다.\n"
     ]
    }
   ],
   "source": [
    "# Build workflow\n",
    "agent_builder = StateGraph(MessagesState)\n",
    "\n",
    "# Add nodes\n",
    "agent_builder.add_node(\"llm_call\", llm_call)\n",
    "agent_builder.add_node(\"tool_node\", tool_node)\n",
    "\n",
    "# Add edges to connect nodes\n",
    "agent_builder.add_edge(START, \"llm_call\")\n",
    "agent_builder.add_conditional_edges(\n",
    "    \"llm_call\",\n",
    "    should_continue,\n",
    "    [\"tool_node\", END]\n",
    ")\n",
    "agent_builder.add_edge(\"tool_node\", \"llm_call\")\n",
    "\n",
    "# Compile the agent\n",
    "agent = agent_builder.compile()\n",
    "\n",
    "# Show the agent\n",
    "from IPython.display import Image, display\n",
    "display(Image(agent.get_graph(xray=True).draw_mermaid_png()))\n",
    "\n",
    "# Invoke\n",
    "from langchain.messages import HumanMessage\n",
    "messages = [HumanMessage(content=\"3 더하기 4는 몇이야?\")]\n",
    "messages = agent.invoke({\"messages\": messages})\n",
    "for m in messages[\"messages\"]:\n",
    "    m.pretty_print()"
   ]
  },
  {
   "cell_type": "code",
   "execution_count": 42,
   "id": "30bfaaa2",
   "metadata": {},
   "outputs": [
    {
     "name": "stdout",
     "output_type": "stream",
     "text": [
      "================================\u001b[1m Human Message \u001b[0m=================================\n",
      "\n",
      "3 곱하기 4를 하고 더하기 5 하고 나누기 2 하면 몇이야?\n",
      "==================================\u001b[1m Ai Message \u001b[0m==================================\n",
      "Tool Calls:\n",
      "  multiply (call_hoHTqrcVqMBk0NCBd44xlw9h)\n",
      " Call ID: call_hoHTqrcVqMBk0NCBd44xlw9h\n",
      "  Args:\n",
      "    a: 3\n",
      "    b: 4\n",
      "  add (call_Sj8kOTis6dpFbVlJA2el6OFe)\n",
      " Call ID: call_Sj8kOTis6dpFbVlJA2el6OFe\n",
      "  Args:\n",
      "    a: 12\n",
      "    b: 5\n",
      "  divide (call_YhpO4YyiBo0vIv437FFh8p3Z)\n",
      " Call ID: call_YhpO4YyiBo0vIv437FFh8p3Z\n",
      "  Args:\n",
      "    a: 17\n",
      "    b: 2\n",
      "=================================\u001b[1m Tool Message \u001b[0m=================================\n",
      "\n",
      "12\n",
      "=================================\u001b[1m Tool Message \u001b[0m=================================\n",
      "\n",
      "17\n",
      "=================================\u001b[1m Tool Message \u001b[0m=================================\n",
      "\n",
      "8.5\n",
      "==================================\u001b[1m Ai Message \u001b[0m==================================\n",
      "\n",
      "3 곱하기 4는 12이고, 여기에 5를 더하면 17입니다. 마지막으로 17을 2로 나누면 8.5가 됩니다. 따라서 결과는 8.5입니다.\n"
     ]
    }
   ],
   "source": [
    "messages = [HumanMessage(content=\"3 곱하기 4를 하고 더하기 5 하고 나누기 2 하면 몇이야?\")]\n",
    "messages = agent.invoke({\"messages\": messages})\n",
    "for m in messages[\"messages\"]:\n",
    "    m.pretty_print()"
   ]
  },
  {
   "cell_type": "code",
   "execution_count": null,
   "id": "63f8cc85",
   "metadata": {},
   "outputs": [],
   "source": []
  }
 ],
 "metadata": {
  "kernelspec": {
   "display_name": ".venv",
   "language": "python",
   "name": "python3"
  },
  "language_info": {
   "codemirror_mode": {
    "name": "ipython",
    "version": 3
   },
   "file_extension": ".py",
   "mimetype": "text/x-python",
   "name": "python",
   "nbconvert_exporter": "python",
   "pygments_lexer": "ipython3",
   "version": "3.13.2"
  }
 },
 "nbformat": 4,
 "nbformat_minor": 5
}
